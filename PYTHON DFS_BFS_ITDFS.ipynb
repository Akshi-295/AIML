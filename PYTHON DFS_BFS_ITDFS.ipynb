{
  "nbformat": 4,
  "nbformat_minor": 0,
  "metadata": {
    "colab": {
      "provenance": []
    },
    "kernelspec": {
      "name": "python3",
      "display_name": "Python 3"
    },
    "language_info": {
      "name": "python"
    }
  },
  "cells": [
    {
      "cell_type": "code",
      "execution_count": 4,
      "metadata": {
        "colab": {
          "base_uri": "https://localhost:8080/"
        },
        "id": "Y8ZgkI7PBTr0",
        "outputId": "f42c43d0-38b9-4915-9d95-0d476b119000"
      },
      "outputs": [
        {
          "output_type": "stream",
          "name": "stdout",
          "text": [
            "Enter No of Nodes:6\n",
            "Enter No of Edge:7\n",
            "0 1\n",
            "0 2\n",
            "1 2\n",
            "1 3 \n",
            "2 5\n",
            "2 6\n",
            "2 7\n",
            "Enter Goal:6\n",
            "Enter Limit:3\n",
            "found within depth limit\n"
          ]
        }
      ],
      "source": [
        "from collections import defaultdict\n",
        "\n",
        "n = int(input(\"Enter No of Nodes:\"))\n",
        "e = int(input(\"Enter No of Edge:\"))\n",
        "\n",
        "graph = defaultdict(list)\n",
        "\n",
        "for i in range(e):\n",
        "    i,j = map(int,input().split())\n",
        "    graph[i].append(j)\n",
        "\n",
        "def dfs(v,goal,limit):\n",
        "    if v == goal:\n",
        "        return 1;\n",
        "\n",
        "    for i in graph[v]:\n",
        "        if limit-1 >= 0:\n",
        "            if dfs(i,goal,limit-1) !=  -1:\n",
        "                return 1\n",
        "    return -1\n",
        "\n",
        "\n",
        "goal = int(input(\"Enter Goal:\"))\n",
        "limit = int(input(\"Enter Limit:\"))\n",
        "\n",
        "res = dfs(0,goal,limit)\n",
        "\n",
        "if res == -1:\n",
        "    print(\"not found\")\n",
        "else:\n",
        "    print(\"found within depth limit\")"
      ]
    },
    {
      "cell_type": "code",
      "source": [
        "# Using a Python dictionary to act as an adjacency list\n",
        "graph = {\n",
        "    'A' : ['B','C'],\n",
        "    'B' : ['D', 'E'],\n",
        "    'C' : ['F'],\n",
        "    'D' : [],\n",
        "    'E' : ['F'],\n",
        "    'F' : []\n",
        "}\n",
        "\n",
        "visited = set() # Set to keep track of visited nodes.\n",
        "\n",
        "def dfs(visited, graph, node):\n",
        "    if node not in visited:\n",
        "        print (node)\n",
        "        visited.add(node)\n",
        "        for neighbour in graph[node]:\n",
        "            dfs(visited, graph, neighbour)\n",
        "\n",
        "# Driver Code\n",
        "dfs(visited, graph, 'A')"
      ],
      "metadata": {
        "colab": {
          "base_uri": "https://localhost:8080/"
        },
        "id": "IUiyDaszE4pT",
        "outputId": "14a64e47-58a2-40fd-8465-702b4316be94"
      },
      "execution_count": 5,
      "outputs": [
        {
          "output_type": "stream",
          "name": "stdout",
          "text": [
            "A\n",
            "B\n",
            "D\n",
            "E\n",
            "F\n",
            "C\n",
            "A\n",
            "B\n",
            "D\n",
            "E\n",
            "F\n",
            "C\n"
          ]
        }
      ]
    },
    {
      "cell_type": "code",
      "source": [
        "# Using a Python dictionary to act as an adjacency list\n",
        "graph = {\n",
        "  '5' : ['3','7'],\n",
        "  '3' : ['2', '4'],\n",
        "  '7' : ['8'],\n",
        "  '2' : [],\n",
        "  '4' : ['8'],\n",
        "  '8' : []\n",
        "}\n",
        "\n",
        "visited = set() # Set to keep track of visited nodes of graph.\n",
        "\n",
        "def dfs(visited, graph, node):  #function for dfs\n",
        "    if node not in visited:\n",
        "        print (node)\n",
        "        visited.add(node)\n",
        "        for neighbour in graph[node]:\n",
        "            dfs(visited, graph, neighbour)\n",
        "\n",
        "# Driver Code\n",
        "print(\"Following is the Depth-First Search\")\n",
        "dfs(visited, graph, '5')"
      ],
      "metadata": {
        "colab": {
          "base_uri": "https://localhost:8080/"
        },
        "id": "J7IlLyAUFiBa",
        "outputId": "6d51f5af-bc73-4f39-ecba-c15ee0797301"
      },
      "execution_count": 7,
      "outputs": [
        {
          "output_type": "stream",
          "name": "stdout",
          "text": [
            "Following is the Depth-First Search\n",
            "5\n",
            "3\n",
            "2\n",
            "4\n",
            "8\n",
            "7\n"
          ]
        }
      ]
    },
    {
      "cell_type": "code",
      "source": [
        "graph = {\n",
        "  '5' : ['3','7'],\n",
        "  '3' : ['2', '4'],\n",
        "  '7' : ['8'],\n",
        "  '2' : [],\n",
        "  '4' : ['8'],\n",
        "  '8' : []\n",
        "}\n",
        "\n",
        "visited = [] # List for visited nodes.\n",
        "queue = []     #Initialize a queue\n",
        "\n",
        "def bfs(visited, graph, node): #function for BFS\n",
        "  visited.append(node)\n",
        "  queue.append(node)\n",
        "\n",
        "  while queue:          # Creating loop to visit each node\n",
        "    m = queue.pop(0)\n",
        "    print (m, end = \" \")\n",
        "\n",
        "    for neighbour in graph[m]:\n",
        "      if neighbour not in visited:\n",
        "        visited.append(neighbour)\n",
        "        queue.append(neighbour)\n",
        "\n",
        "# Driver Code\n",
        "print(\"Following is the Breadth-First Search\")\n",
        "bfs(visited, graph, '5')    # function calling"
      ],
      "metadata": {
        "colab": {
          "base_uri": "https://localhost:8080/"
        },
        "id": "1pHRhU9AFreM",
        "outputId": "0e0244dd-350b-401f-dfc8-38cc8f0c21bf"
      },
      "execution_count": 8,
      "outputs": [
        {
          "output_type": "stream",
          "name": "stdout",
          "text": [
            "Following is the Breadth-First Search\n",
            "5 3 7 2 4 8 "
          ]
        }
      ]
    },
    {
      "cell_type": "code",
      "source": [],
      "metadata": {
        "id": "FTkJ3P-XFpSw"
      },
      "execution_count": null,
      "outputs": []
    }
  ]
}